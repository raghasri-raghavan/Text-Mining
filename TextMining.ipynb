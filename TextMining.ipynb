{
 "cells": [
  {
   "cell_type": "markdown",
   "metadata": {},
   "source": [
    "### Text Mining"
   ]
  },
  {
   "cell_type": "markdown",
   "metadata": {},
   "source": [
    "##### 1) Extract contact numbers from document\n",
    "##### 2) Extract email ids from document\n",
    "##### 3) Extract full names from document\n",
    "##### 4) Scrap all phone numebrs from webpage using Regex\n"
   ]
  },
  {
   "cell_type": "code",
   "execution_count": 1,
   "metadata": {},
   "outputs": [],
   "source": [
    "from chardet import detect  ##find encoding\n",
    "# import docx\n",
    "import docx2txt\n",
    "import re\n",
    "import requests\n",
    "import urllib.request\n",
    "from bs4 import BeautifulSoup\n",
    " "
   ]
  },
  {
   "cell_type": "code",
   "execution_count": 2,
   "metadata": {},
   "outputs": [],
   "source": [
    "##### to identify encoding of file\n",
    "# doc=open('resume.docx','r')\n",
    "# data=doc.read()\n",
    "# print(data)\n",
    "# # print(detect(data)['encoding'])\n"
   ]
  },
  {
   "cell_type": "markdown",
   "metadata": {},
   "source": [
    "#### Read data in document"
   ]
  },
  {
   "cell_type": "code",
   "execution_count": 3,
   "metadata": {},
   "outputs": [],
   "source": [
    "res=docx2txt.process('data.docx')"
   ]
  },
  {
   "cell_type": "code",
   "execution_count": 4,
   "metadata": {},
   "outputs": [
    {
     "data": {
      "text/plain": [
       "str"
      ]
     },
     "execution_count": 4,
     "metadata": {},
     "output_type": "execute_result"
    }
   ],
   "source": [
    "type(res)"
   ]
  },
  {
   "cell_type": "code",
   "execution_count": 5,
   "metadata": {},
   "outputs": [
    {
     "name": "stdout",
     "output_type": "stream",
     "text": [
      "Raghasri Raghavan\n",
      "\n",
      "RamIyer\n",
      "\n",
      "Suresh Iyer\n",
      "\n",
      "Suresh Pal\n",
      "\n",
      "Ramesh Kind\n",
      "\n",
      "Email:raghasrir@cybage.comhgefjgjfgj\n",
      "\n",
      "kfhkufhikffl\n",
      "\n",
      "‘jidhggfgdfkd\n",
      "\n",
      "9749625896486 jkdhfjgdgsf\n",
      "\n",
      "Phone no.:+91-9878748623iufhdfghjgj\n",
      "\n",
      "+91-9878788623\n",
      "\n",
      "+91-9818748623\n",
      "\n",
      "0251-2401545\n",
      "\n",
      "022-7894561\n",
      "\n",
      "hsjgsdhcd@16432.conuwtyrutwergewuh\n",
      "\n",
      "821986164@hiufh.isifh\n",
      "\n",
      "Uwuuedygdghsbdg\n",
      "\n",
      "Email:iyifdedughfhjgd@yu8ieyrifejhdj.cosdfj\n",
      "\n",
      "Telephones: +91-20-66041700\n",
      "\n",
      "+91-20-66044700\n",
      "\n",
      "Fax: +91-20-66041701\n"
     ]
    }
   ],
   "source": [
    "print(res)"
   ]
  },
  {
   "cell_type": "code",
   "execution_count": 6,
   "metadata": {},
   "outputs": [],
   "source": [
    "# with open('try.txt', \"w\") as File:\n",
    "#     File.write(res)"
   ]
  },
  {
   "cell_type": "markdown",
   "metadata": {},
   "source": [
    "##### Regular expr"
   ]
  },
  {
   "cell_type": "code",
   "execution_count": 7,
   "metadata": {},
   "outputs": [],
   "source": [
    "# ^(\\d{10})$ - exact 10 digits ( beg- digit and end-digit)\n",
    "# [A-Z][a-z]* - eg: Ramesh ..."
   ]
  },
  {
   "cell_type": "markdown",
   "metadata": {},
   "source": [
    "#### Extract phone numbers from document\n"
   ]
  },
  {
   "cell_type": "code",
   "execution_count": 8,
   "metadata": {},
   "outputs": [
    {
     "name": "stdout",
     "output_type": "stream",
     "text": [
      "Mobile numbers are:\n",
      "+91-9878748623\n",
      "+91-9878788623\n",
      "+91-9818748623\n",
      "Landline numbers are:\n",
      "+91-20-66041700\n",
      "+91-20-66044700\n",
      "+91-20-66041701\n",
      "List of all phone numebrs mentioned in document:-\n",
      "+91-9878748623\n",
      "+91-9878788623\n",
      "+91-9818748623\n",
      "+91-20-66041700\n",
      "+91-20-66044700\n",
      "+91-20-66041701\n"
     ]
    }
   ],
   "source": [
    "#phone num\n",
    "print('Mobile numbers are:')\n",
    "for num in re.findall(pattern='\\+\\d{2}-\\d{10}',string=res):\n",
    "    print(num)\n",
    "print('Landline numbers are:')\n",
    "for num in re.findall(pattern='\\+\\d{2}-\\d{2}-\\d{8}',string=res):\n",
    "    print(num)\n",
    "phonenumList=re.findall(pattern='\\+\\d{2}-\\d{10}',string=res)\n",
    "phonenumList.extend(re.findall(pattern='\\+\\d{2}-\\d{2}-\\d{8}',string=res))\n",
    "print('List of all phone numebrs mentioned in document:-')\n",
    "for num in phonenumList:\n",
    "    print(num)\n"
   ]
  },
  {
   "cell_type": "markdown",
   "metadata": {},
   "source": [
    "#### Extract email ids from document\n",
    "![title](email.png)"
   ]
  },
  {
   "cell_type": "code",
   "execution_count": 9,
   "metadata": {},
   "outputs": [
    {
     "name": "stdout",
     "output_type": "stream",
     "text": [
      "Valid emails:---\n",
      "raghasrir@cybage.com\n",
      "hsjgsdhcd@16432.con\n",
      "821986164@hiufh.isi\n",
      "iyifdedughfhjgd@yu8ieyrifejhdj.cos\n"
     ]
    }
   ],
   "source": [
    "#email\n",
    "# ^([a-z])\\w+\\@\\w+\\.\\w{1,3}$\n",
    "# re.search(pattern='([a-z])\\w+\\@\\w+\\.\\w{1,3}',string=res)\n",
    "print('Valid emails:---')\n",
    "for email in re.findall('[\\w.%+-]{1,20}@[\\w-]{2,20}.[a-zA-Z]{2,3}',res):\n",
    "    print(email)"
   ]
  },
  {
   "cell_type": "markdown",
   "metadata": {},
   "source": [
    "#### Extract full names from document"
   ]
  },
  {
   "cell_type": "code",
   "execution_count": 10,
   "metadata": {},
   "outputs": [
    {
     "name": "stdout",
     "output_type": "stream",
     "text": [
      "Full names in document:--\n",
      "Raghasri Raghavan\n",
      "Suresh Iyer\n",
      "Suresh Pal\n",
      "Ramesh Kind\n"
     ]
    }
   ],
   "source": [
    "#full names\n",
    "print('Full names in document:--')\n",
    "for name in re.findall(pattern='[a-zA-Z]{3,20}\\s[a-zA-Z]{3,20}',string=res):\n",
    "    print(name)"
   ]
  },
  {
   "cell_type": "markdown",
   "metadata": {},
   "source": [
    "#### Scrap all phone numebrs from webpage using Regex"
   ]
  },
  {
   "cell_type": "code",
   "execution_count": 11,
   "metadata": {},
   "outputs": [],
   "source": [
    "url='https://bmobile.in/operator/AC/TN' # url for phone nos"
   ]
  },
  {
   "cell_type": "code",
   "execution_count": 12,
   "metadata": {},
   "outputs": [],
   "source": [
    "response=requests.get(url)"
   ]
  },
  {
   "cell_type": "code",
   "execution_count": 13,
   "metadata": {},
   "outputs": [
    {
     "name": "stdout",
     "output_type": "stream",
     "text": [
      "<Response [200]>\n"
     ]
    }
   ],
   "source": [
    "print(response) # 200 - ok"
   ]
  },
  {
   "cell_type": "code",
   "execution_count": 14,
   "metadata": {},
   "outputs": [
    {
     "name": "stdout",
     "output_type": "stream",
     "text": [
      "Phone numbers in mentioned URL:\n",
      "7373078311\n",
      "7373142387\n",
      "7373296766\n",
      "7373382469\n",
      "7373452806\n",
      "7373557167\n",
      "7373668587\n",
      "7373765286\n",
      "7373841867\n",
      "7373950964\n"
     ]
    }
   ],
   "source": [
    "soup = BeautifulSoup(response.text, 'html.parser')\n",
    "# print(soup)\n",
    "print('Phone numbers in mentioned URL:')\n",
    "for item in soup.findAll('a'):\n",
    "    phoneNumMatch=re.search('\\d{10}',str(item))\n",
    "    if(phoneNumMatch):\n",
    "#         print('Yes')\n",
    "        print(phoneNumMatch.group())\n",
    "# phoneNumMatch"
   ]
  },
  {
   "cell_type": "markdown",
   "metadata": {},
   "source": [
    "#### Worked out regex operations"
   ]
  },
  {
   "cell_type": "markdown",
   "metadata": {},
   "source": [
    "##### example"
   ]
  },
  {
   "cell_type": "code",
   "execution_count": 45,
   "metadata": {},
   "outputs": [
    {
     "name": "stdout",
     "output_type": "stream",
     "text": [
      "Ram is 15 years old and Ramesh is 20 years old \n"
     ]
    }
   ],
   "source": [
    "string='''Ram is 15 years old and Ramesh is 20 years old '''\n",
    "print(string)"
   ]
  },
  {
   "cell_type": "code",
   "execution_count": 46,
   "metadata": {},
   "outputs": [
    {
     "name": "stdout",
     "output_type": "stream",
     "text": [
      "['15', '20']\n",
      "['Ram', 'Ramesh']\n"
     ]
    }
   ],
   "source": [
    "agesList=re.findall(pattern=r'\\d{1,3}',string=string)\n",
    "namesList=re.findall(pattern=r'[A-Z][a-z]*',string=string)\n",
    "print(agesList)\n",
    "print(namesList)"
   ]
  },
  {
   "cell_type": "code",
   "execution_count": 47,
   "metadata": {},
   "outputs": [
    {
     "name": "stdout",
     "output_type": "stream",
     "text": [
      "{'Ram': '15', 'Ramesh': '20'}\n"
     ]
    }
   ],
   "source": [
    "personDict={}\n",
    "i=0\n",
    "for person in namesList:\n",
    "    personDict[person]=agesList[i]\n",
    "    i+=1\n",
    "print(personDict)\n"
   ]
  },
  {
   "cell_type": "code",
   "execution_count": 78,
   "metadata": {},
   "outputs": [
    {
     "name": "stdout",
     "output_type": "stream",
     "text": [
      "(29, 35)\n",
      "(46, 52)\n",
      "(77, 83)\n"
     ]
    }
   ],
   "source": [
    "# starting and ending index of matched word\n",
    "for i in re.finditer('cybage','Welcome to Cybage... This is cybage company.. cybage provides services.. www.cybage.com'):\n",
    "#     print(i)\n",
    "    print(i.span()) \n"
   ]
  },
  {
   "cell_type": "code",
   "execution_count": 107,
   "metadata": {},
   "outputs": [
    {
     "name": "stdout",
     "output_type": "stream",
     "text": [
      "sat\n",
      "hat\n",
      "pat\n",
      "=======\n",
      "hat\n",
      "pat\n",
      "=======\n",
      "sat\n"
     ]
    }
   ],
   "source": [
    "##match words with particular pattern\n",
    "strList='sat,har,hart,hat,pat,apt'\n",
    "for word in re.findall('[shp]at',strList):\n",
    "    print(word)\n",
    "print('=======')\n",
    "for word in re.findall('[h-p]at',strList):\n",
    "    print(word)\n",
    "print('=======')\n",
    "for word in re.findall('[^h-p]at',strList):\n",
    "    print(word)"
   ]
  },
  {
   "cell_type": "code",
   "execution_count": 110,
   "metadata": {},
   "outputs": [
    {
     "name": "stdout",
     "output_type": "stream",
     "text": [
      "hat,mat,pat,food,sat\n"
     ]
    }
   ],
   "source": [
    "####replace a string\n",
    "test='hat,mat,pat,rat,sat'\n",
    "pattern=re.compile('[r]at')\n",
    "substr=pattern.sub('food',test)\n",
    "print(substr)\n"
   ]
  },
  {
   "cell_type": "code",
   "execution_count": null,
   "metadata": {},
   "outputs": [],
   "source": []
  },
  {
   "cell_type": "code",
   "execution_count": null,
   "metadata": {},
   "outputs": [],
   "source": []
  }
 ],
 "metadata": {
  "kernelspec": {
   "display_name": "Python 3",
   "language": "python",
   "name": "python3"
  },
  "language_info": {
   "codemirror_mode": {
    "name": "ipython",
    "version": 3
   },
   "file_extension": ".py",
   "mimetype": "text/x-python",
   "name": "python",
   "nbconvert_exporter": "python",
   "pygments_lexer": "ipython3",
   "version": "3.6.5"
  }
 },
 "nbformat": 4,
 "nbformat_minor": 2
}
